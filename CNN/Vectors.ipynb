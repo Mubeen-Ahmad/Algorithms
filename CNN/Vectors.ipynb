{
 "cells": [
  {
   "cell_type": "markdown",
   "id": "ccb7647d-52d3-4270-9eb7-c9f9f82caf21",
   "metadata": {},
   "source": [
    "<h1 style=\"text-align:center; color:#005bbd; font-size:50px; font-family:Sans-serif; font-style: oblique; text-shadow: 0 0 3px white, 0 0 1px Black;\">Vectors</h1>\n"
   ]
  },
  {
   "cell_type": "markdown",
   "id": "20679d21-484a-47d1-ad8a-895eab346299",
   "metadata": {},
   "source": [
    "<div style=\"text-align:justify; color:black; font-size:20px; font-family:Sans-serif; font-style: oblique; text-shadow: 0 0 3px white, 0 0 1px black;\"><p>CNNs mein, vectors ka istemal data ko represent karne ke liye kiya jata hai.<br>Images, text,\n",
    "aur audio jaise data ko vectors mein convert kiya ja sakta hai.<br>CNNs vectors ko process\n",
    "karke features ko extract karne aur patterns ko recognize karne ke liye use karte hain</p></div>\r\n"
   ]
  },
  {
   "cell_type": "markdown",
   "id": "72466666-bd8e-48f2-b904-79f70f2cf1d3",
   "metadata": {},
   "source": [
    "<div style=\"text-align:justify; color:black; font-size:20px; font-family:Sans-serif; font-style: oblique; text-shadow: 0 0 3px white, 0 0 1px black;\">\n",
    "    Vectors ko smjhne ke liye, aapko kuch fundamental concepts ko samajhna hoga\n",
    "    <ul>1 Vector ki Definition:\n",
    "    <ol>Ek vector ek mathematical entity hai jo magnitude aur direction dono ko represent karta hai.<br>\r\n",
    "Iska matlab hai ki ek vector mein 2  fundamental components hote hain</ol></ul>\n",
    "    <ul>● Magnitude: Yeh vector ki length hoti hai aur yeh batati hai ki vector kitna \"Bara\" hai.\r",
    "<ol>\n",
    "Magnitude ko scalar quantity ke taur par measure kiya jata ha</ol></ul>\n",
    "    <ul>● Direction: Yeh vector ki direction hoti hai aur yeh batati hai ki vector kis direction mein\r\n",
    "point kar raha hai.\n",
    "        <ol> Direction ko angle ke taur par measure kiya jata hai.</ol>\n",
    "    </ul>\n",
    "\n",
    "\r\n",
    "</div>"
   ]
  }
 ],
 "metadata": {
  "kernelspec": {
   "display_name": "Python 3 (ipykernel)",
   "language": "python",
   "name": "python3"
  },
  "language_info": {
   "codemirror_mode": {
    "name": "ipython",
    "version": 3
   },
   "file_extension": ".py",
   "mimetype": "text/x-python",
   "name": "python",
   "nbconvert_exporter": "python",
   "pygments_lexer": "ipython3",
   "version": "3.12.1"
  }
 },
 "nbformat": 4,
 "nbformat_minor": 5
}
